{
 "cells": [
  {
   "cell_type": "markdown",
   "metadata": {},
   "source": [
    "# Exercise 3.3\n",
    "This exercise embeds the message \"Father Christmas does not exist\" in random frames of the audio, and extracts the message when given the random positions."
   ]
  },
  {
   "cell_type": "markdown",
   "metadata": {},
   "source": [
    "Firstly, we need to import the libraries required in the application."
   ]
  },
  {
   "cell_type": "code",
   "execution_count": 1,
   "metadata": {},
   "outputs": [],
   "source": [
    "# Import libraries\n",
    "import wave\n",
    "import random"
   ]
  },
  {
   "cell_type": "markdown",
   "metadata": {},
   "source": [
    "Next, we have the embed_message function that embeds the message in the audio file.\n",
    "\n",
    "The function takes in an audio file, output file and message as the parameters, and converts the message to a binary string. It then generates an array of random frames, and embeds each bit of the binary message in the least significant bit (LSB) of the random frame. Finally, the modified frames are written to the output file and the array of random positions is returned."
   ]
  },
  {
   "cell_type": "code",
   "execution_count": 2,
   "metadata": {},
   "outputs": [],
   "source": [
    "# Function to embed message into audio file\n",
    "def embed_message(audio_file, output_file, message):\n",
    "    # Open the original audio file in read-binary mode\n",
    "    with wave.open(audio_file, 'rb') as wave_file:\n",
    "        # Get the parameters of the original audio file\n",
    "        params = wave_file.getparams()\n",
    "        # Read all frames from the original audio file\n",
    "        frames = wave_file.readframes(params.nframes)\n",
    "        # Convert frames to a mutable bytearray for modification\n",
    "        modified_frames = bytearray(frames)\n",
    "        # Convert the message to a binary string\n",
    "        binary_message = ''.join(format(ord(char), '08b') for char in message)\n",
    "        # Generate random positions for embedding the message\n",
    "        random_positions = random.sample(range(len(modified_frames)), len(binary_message))\n",
    "        \n",
    "        # Iterate through each bit in the binary message\n",
    "        for i in range(0, len(binary_message)):\n",
    "            # Get a random position to embed the current bit\n",
    "            position = random_positions[i]\n",
    "            # Modify the frame at the selected position to embed the current bit\n",
    "            modified_frames[position] = (modified_frames[position] & 0b11111110) | int(binary_message[i])\n",
    "            \n",
    "    # Open the output file in write-binary mode\n",
    "    with wave.open(output_file, 'wb') as wave_file:\n",
    "        # Set the parameters of the output file\n",
    "        wave_file.setparams(params)\n",
    "        # Write the modified frames to the output file\n",
    "        wave_file.writeframes(modified_frames)\n",
    "        \n",
    "    # Return the random positions used for embedding (for extraction)\n",
    "    return random_positions"
   ]
  },
  {
   "cell_type": "markdown",
   "metadata": {},
   "source": [
    "Now we have the extract_message function that extracts the message from the audio file.\n",
    "\n",
    "The function takes in the output file and random positions as the parameters, and extracts each bit of the binary message from the LSB of each random frame. The binary message is then converted to ASCII characters and the extracted message is returned."
   ]
  },
  {
   "cell_type": "code",
   "execution_count": 3,
   "metadata": {},
   "outputs": [],
   "source": [
    "# Function to extract message from audio file\n",
    "def extract_message(output_file, random_positions):\n",
    "    # Open the embedded audio file in read-binary mode\n",
    "    with wave.open(output_file, 'rb') as wave_file:\n",
    "        # Get the parameters of the embedded audio file\n",
    "        params = wave_file.getparams()\n",
    "        # Read all frames from the embedded audio file\n",
    "        frames = wave_file.readframes(params.nframes)\n",
    "        # Initialize an empty string to store the least significant bits (LSBs)\n",
    "        lsb = ''\n",
    "        # Initialize an empty string to store the extracted binary message\n",
    "        binary_message = ''\n",
    "        \n",
    "        # Iterate through each frame in the embedded audio file\n",
    "        for frame in frames:\n",
    "            # Extract the LSB of each byte in the frame\n",
    "            lsb += bin(frame)[-1]\n",
    "            \n",
    "        # Extract the bits at the previously embedded random positions\n",
    "        for position in random_positions:\n",
    "            binary_message += lsb[position]\n",
    "        \n",
    "    # Convert the binary message to ASCII characters\n",
    "    extracted_message = ''.join(chr(int(binary_message[i:i+8], 2)) for i in range(0, len(binary_message), 8))\n",
    "    \n",
    "    # Return the extracted message\n",
    "    return extracted_message"
   ]
  },
  {
   "cell_type": "markdown",
   "metadata": {},
   "source": [
    "Lastly, the embed_message and extract_message functions are called on Ex3_sound5.wav, and the message \"Father Christmas does not exist\" was embedded and extracted successfully."
   ]
  },
  {
   "cell_type": "code",
   "execution_count": 4,
   "metadata": {},
   "outputs": [
    {
     "name": "stdout",
     "output_type": "stream",
     "text": [
      "Extracted message: Father Christmas does not exist\n"
     ]
    }
   ],
   "source": [
    "# Specify the original audio file, output file for embedding, and the message to embed\n",
    "audio_file = 'Ex3_sound5.wav'\n",
    "output_file = 'Ex3_sound5_embedded.wav'\n",
    "message = 'Father Christmas does not exist'\n",
    "\n",
    "# Embed the message and get the random positions used for extraction\n",
    "random_positions = embed_message(audio_file, output_file, message)\n",
    "\n",
    "# Extract the message from the embedded audio file using the random positions\n",
    "extracted_message = extract_message(output_file, random_positions)\n",
    "\n",
    "# Print the extracted message\n",
    "print(f'Extracted message: {extracted_message}')"
   ]
  }
 ],
 "metadata": {
  "kernelspec": {
   "display_name": "Python 3 (ipykernel)",
   "language": "python",
   "name": "python3"
  },
  "language_info": {
   "codemirror_mode": {
    "name": "ipython",
    "version": 3
   },
   "file_extension": ".py",
   "mimetype": "text/x-python",
   "name": "python",
   "nbconvert_exporter": "python",
   "pygments_lexer": "ipython3",
   "version": "3.11.5"
  }
 },
 "nbformat": 4,
 "nbformat_minor": 2
}
